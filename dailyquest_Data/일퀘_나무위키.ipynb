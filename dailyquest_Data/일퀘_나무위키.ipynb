{
 "cells": [
  {
   "cell_type": "code",
   "execution_count": 1,
   "id": "cd008215",
   "metadata": {},
   "outputs": [],
   "source": [
    "import requests\n",
    "import pandas as pd\n",
    "import time\n",
    "import re\n",
    "from bs4 import BeautifulSoup"
   ]
  },
  {
   "cell_type": "code",
   "execution_count": 2,
   "id": "fdf4e657",
   "metadata": {},
   "outputs": [],
   "source": [
    "headers = {\n",
    "    'User-Agent': 'Mozilla/5.0 (Macintosh; Intel Mac OS X 10_15_7) AppleWebKit/537.36 (KHTML, like Gecko) Chrome/120.0.0.0 Safari/537.36'\n",
    "}\n",
    "\n",
    "url = f\"https://namu.wiki/w/%EA%B7%B8%EB%9E%80%EB%94%94%EC%8A%A4%20%EB%8C%80%EB%A5%99%20%EC%9D%BC%EC%9D%BC%20%ED%80%98%EC%8A%A4%ED%8A%B8\"\n",
    "res = requests.get(url, headers=headers)\n",
    "    \n",
    "soup = BeautifulSoup(res.text, \"html.parser\")"
   ]
  },
  {
   "cell_type": "code",
   "execution_count": 7,
   "id": "68de8229",
   "metadata": {},
   "outputs": [],
   "source": [
    "data = soup.find_all(\"ul\", class_=\"W078FM6Z\")[2]"
   ]
  },
  {
   "cell_type": "code",
   "execution_count": 41,
   "id": "c13ff960",
   "metadata": {},
   "outputs": [],
   "source": [
    "ser = data.find_all(\"div\", class_=\"cIflhYhI\")[3].text[5:19]\n",
    "arc = data.find_all(\"div\", class_=\"cIflhYhI\")[6].text[5:19]\n",
    "odi = data.find_all(\"div\", class_=\"cIflhYhI\")[9].text[5:19]\n",
    "do = data.find_all(\"div\", class_=\"cIflhYhI\")[12].text[5:19]\n",
    "art = data.find_all(\"div\", class_=\"cIflhYhI\")[15].text[5:19]\n",
    "car = data.find_all(\"div\", class_=\"cIflhYhI\")[18].text[5:19]"
   ]
  },
  {
   "cell_type": "code",
   "execution_count": 19,
   "id": "2ff86fd1",
   "metadata": {},
   "outputs": [],
   "source": [
    "columns = [\"세르니움\", \"아르크스\", \"오디움\", \"도원경\", \"아르테리아\", \"카르시온\"]"
   ]
  },
  {
   "cell_type": "code",
   "execution_count": 42,
   "id": "43024c12",
   "metadata": {},
   "outputs": [],
   "source": [
    "daily = [ser, arc, odi, do, art, car]"
   ]
  },
  {
   "cell_type": "code",
   "execution_count": 48,
   "id": "7d75fafa",
   "metadata": {},
   "outputs": [],
   "source": [
    "dq_data = pd.DataFrame(daily).transpose()"
   ]
  },
  {
   "cell_type": "code",
   "execution_count": 56,
   "id": "c4411767",
   "metadata": {},
   "outputs": [],
   "source": [
    "dq_data.rename(columns={0:\"세르니움\", 1:\"아르크스\", 2:\"오디움\", 3:\"도원경\", 4:\"아르테리아\", 5:\"카르시온\"}, inplace=True)\n",
    "dq_data.rename(index={0:\"경험치량\"}, inplace=True)"
   ]
  },
  {
   "cell_type": "code",
   "execution_count": 58,
   "id": "78dc4f8d",
   "metadata": {
    "scrolled": true
   },
   "outputs": [],
   "source": [
    "dq_data.to_csv(\"dailyquest_data.csv\")"
   ]
  }
 ],
 "metadata": {
  "kernelspec": {
   "display_name": "Python 3",
   "language": "python",
   "name": "python3"
  },
  "language_info": {
   "codemirror_mode": {
    "name": "ipython",
    "version": 3
   },
   "file_extension": ".py",
   "mimetype": "text/x-python",
   "name": "python",
   "nbconvert_exporter": "python",
   "pygments_lexer": "ipython3",
   "version": "3.8.8"
  }
 },
 "nbformat": 4,
 "nbformat_minor": 5
}
