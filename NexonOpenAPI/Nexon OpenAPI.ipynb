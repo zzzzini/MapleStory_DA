{
 "cells": [
  {
   "cell_type": "code",
   "execution_count": 3,
   "id": "d93f9b07",
   "metadata": {},
   "outputs": [],
   "source": [
    "import requests\n",
    "from urllib.parse import urlparse"
   ]
  },
  {
   "attachments": {},
   "cell_type": "markdown",
   "id": "c201b5c4",
   "metadata": {},
   "source": [
    "# OCID 조회"
   ]
  },
  {
   "cell_type": "code",
   "execution_count": 20,
   "id": "1eb91641",
   "metadata": {},
   "outputs": [],
   "source": [
    "headers = {\n",
    "  \"x-nxopen-api-key\": \"개인 API key\"\n",
    "}\n",
    "\n",
    "name = \"조회하려는 캐릭터 닉네임\"\n",
    "urlString = f'https://open.api.nexon.com/maplestory/v1/id?character_name={name}'\n",
    "response = requests.get(urlString, headers = headers)\n",
    "\n",
    "script = response.json()"
   ]
  },
  {
   "cell_type": "code",
   "execution_count": 24,
   "id": "8e7ec851",
   "metadata": {},
   "outputs": [],
   "source": [
    "ocid = script[\"ocid\"]"
   ]
  },
  {
   "attachments": {},
   "cell_type": "markdown",
   "id": "c5ed0c96",
   "metadata": {},
   "source": [
    "# 심볼 조회"
   ]
  },
  {
   "cell_type": "code",
   "execution_count": 36,
   "id": "62b40a6e",
   "metadata": {},
   "outputs": [],
   "source": [
    "headers = {\n",
    "  \"x-nxopen-api-key\": \"개인 API key\"\n",
    "}\n",
    "\n",
    "urlString = f'https://open.api.nexon.com/maplestory/v1/character/symbol-equipment?ocid={ocid}&date=2023-12-21'\n",
    "response = requests.get(urlString, headers = headers)\n",
    "\n",
    "script = response.json()"
   ]
  },
  {
   "cell_type": "code",
   "execution_count": 57,
   "id": "af02184d",
   "metadata": {},
   "outputs": [],
   "source": [
    "character_symbol = []"
   ]
  },
  {
   "cell_type": "code",
   "execution_count": 58,
   "id": "f5ea1df8",
   "metadata": {
    "scrolled": true
   },
   "outputs": [],
   "source": [
    "authentic_info = script['symbol'][6:]"
   ]
  },
  {
   "cell_type": "code",
   "execution_count": 59,
   "id": "3454ce94",
   "metadata": {},
   "outputs": [],
   "source": [
    "temp = []\n",
    "for item in authentic_info:\n",
    "    temp.append(item['symbol_level'])"
   ]
  },
  {
   "cell_type": "code",
   "execution_count": 60,
   "id": "66728bc5",
   "metadata": {},
   "outputs": [],
   "source": [
    "character_symbol.append(temp)"
   ]
  }
 ],
 "metadata": {
  "kernelspec": {
   "display_name": "Python 3",
   "language": "python",
   "name": "python3"
  },
  "language_info": {
   "codemirror_mode": {
    "name": "ipython",
    "version": 3
   },
   "file_extension": ".py",
   "mimetype": "text/x-python",
   "name": "python",
   "nbconvert_exporter": "python",
   "pygments_lexer": "ipython3",
   "version": "3.8.8"
  }
 },
 "nbformat": 4,
 "nbformat_minor": 5
}
