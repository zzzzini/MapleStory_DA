{
 "cells": [
  {
   "cell_type": "code",
   "execution_count": 1,
   "id": "c4da373a",
   "metadata": {},
   "outputs": [],
   "source": [
    "import requests\n",
    "import pandas as pd\n",
    "from bs4 import BeautifulSoup"
   ]
  },
  {
   "cell_type": "markdown",
   "id": "f873395c",
   "metadata": {},
   "source": [
    "# 전체 페이지 데이터"
   ]
  },
  {
   "cell_type": "code",
   "execution_count": 34,
   "id": "7330caf0",
   "metadata": {},
   "outputs": [],
   "source": [
    "headers = {\n",
    "    'User-Agent': 'Mozilla/5.0 (Macintosh; Intel Mac OS X 10_15_7) AppleWebKit/537.36 (KHTML, like Gecko) Chrome/120.0.0.0 Safari/537.36'\n",
    "}\n",
    "\n",
    "page = 1\n",
    "\n",
    "url = f\"https://www.inven.co.kr/search/maple/article/%EA%B2%BD%ED%97%98%EC%B9%98%ED%86%B5/{page}?sort=recency\"\n",
    "res = requests.get(url, headers=headers)\n",
    "\n",
    "soup = BeautifulSoup(res.text, \"html.parser\")\n",
    "\n",
    "maxpage = int(soup.find(\"div\", class_=\"isearch_paging\").find_all(\"a\")[-2].text)"
   ]
  },
  {
   "cell_type": "markdown",
   "id": "3d46de18",
   "metadata": {},
   "source": [
    "# 경험치통 여론 조사"
   ]
  },
  {
   "cell_type": "code",
   "execution_count": 36,
   "id": "61a4862a",
   "metadata": {},
   "outputs": [],
   "source": [
    "opinion = []"
   ]
  },
  {
   "cell_type": "code",
   "execution_count": 40,
   "id": "b51cd60e",
   "metadata": {},
   "outputs": [],
   "source": [
    "headers = {\n",
    "    'User-Agent': 'Mozilla/5.0 (Macintosh; Intel Mac OS X 10_15_7) AppleWebKit/537.36 (KHTML, like Gecko) Chrome/120.0.0.0 Safari/537.36'\n",
    "}\n",
    "\n",
    "while True:\n",
    "    url = f\"https://www.inven.co.kr/search/maple/article/%EA%B2%BD%ED%97%98%EC%B9%98%ED%86%B5/{page}?sort=recency\"\n",
    "    res = requests.get(url, headers=headers)\n",
    "\n",
    "    soup = BeautifulSoup(res.text, \"html.parser\")\n",
    "\n",
    "    table = soup.find(\"div\", class_=\"section_box noboard\")\n",
    "    headline = table.find_all(\"h1\")[1:]\n",
    "    text = table.find_all(\"p\", class_=\"caption\")\n",
    "    \n",
    "    for i in range(len(headline)):\n",
    "        opinion.append([headline[i].text, text[i].text])\n",
    "    \n",
    "    if page == maxpage:\n",
    "        break\n",
    "    else:\n",
    "        page += 1"
   ]
  },
  {
   "cell_type": "code",
   "execution_count": 44,
   "id": "357ad49b",
   "metadata": {},
   "outputs": [],
   "source": [
    "df = pd.DataFrame(opinion, columns=[\"제목\", \"미리보기\"])"
   ]
  },
  {
   "cell_type": "code",
   "execution_count": null,
   "id": "1d1534fe",
   "metadata": {},
   "outputs": [],
   "source": [
    "df.to_csv(\"여론조사.csv\")"
   ]
  }
 ],
 "metadata": {
  "kernelspec": {
   "display_name": "Python 3",
   "language": "python",
   "name": "python3"
  },
  "language_info": {
   "codemirror_mode": {
    "name": "ipython",
    "version": 3
   },
   "file_extension": ".py",
   "mimetype": "text/x-python",
   "name": "python",
   "nbconvert_exporter": "python",
   "pygments_lexer": "ipython3",
   "version": "3.8.8"
  }
 },
 "nbformat": 4,
 "nbformat_minor": 5
}
