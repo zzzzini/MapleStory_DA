{
 "cells": [
  {
   "cell_type": "code",
   "execution_count": 2,
   "id": "4760c872",
   "metadata": {},
   "outputs": [],
   "source": [
    "import pandas as pd"
   ]
  },
  {
   "cell_type": "code",
   "execution_count": 7,
   "id": "11648556",
   "metadata": {},
   "outputs": [],
   "source": [
    "df = pd.read_csv(\"exp_data.csv\").iloc[:,[1,2]]"
   ]
  },
  {
   "cell_type": "code",
   "execution_count": 15,
   "id": "6a220bef",
   "metadata": {},
   "outputs": [],
   "source": [
    "boundary_data = df.iloc[[59,60,64,65,69,70,74,75,79,80,84,85,89],:]"
   ]
  },
  {
   "cell_type": "code",
   "execution_count": null,
   "id": "8c9b7bc1",
   "metadata": {},
   "outputs": [],
   "source": [
    "boundary_data[\"동일 레벨 몹 경험치\"] = [670940, 1725461, 1828409, 2056974, 2174274,\n",
    "                                2445217, 2582906, 2903024, 3059716, 3436027,\n",
    "                                3614278, 4062965, 4265489]"
   ]
  },
  {
   "cell_type": "code",
   "execution_count": null,
   "id": "7a0ce76e",
   "metadata": {},
   "outputs": [],
   "source": [
    "boundary_data[\"요구 경험치량\"] = boundary_data[\"요구 경험치량\"].apply(lambda x: x.replace(\",\", \"\"))"
   ]
  },
  {
   "cell_type": "code",
   "execution_count": null,
   "id": "ee370309",
   "metadata": {},
   "outputs": [],
   "source": [
    "boundary_data[\"100마리 사냥 경험치 비율\"] = boundary_data.apply(lambda x: round((int(x[2])/int(x[1]))*100*100,6), axis=1)"
   ]
  },
  {
   "cell_type": "code",
   "execution_count": null,
   "id": "b5a71706",
   "metadata": {},
   "outputs": [],
   "source": [
    "boundary_data[\"최상위구간 일일퀘스트 경험치량\"] = [1.771, 0.95, 0.913, 0.827, 0.795, 0.429, 0.413,\n",
    "                               0.282, 0.193, 0.115, 0.078, 0.046, 0.031]"
   ]
  },
  {
   "cell_type": "code",
   "execution_count": null,
   "id": "9b55cdec",
   "metadata": {},
   "outputs": [],
   "source": [
    "boundary_data[\"일일퀘스트 경험치 총량\"] = [7.964, 3.605, 3.464, 3.492, 3.355, 1.941,\n",
    "                                 1.865, 1.206, 0.824, 0.468, 0.320, 0.158, 0.108]"
   ]
  },
  {
   "cell_type": "code",
   "execution_count": null,
   "id": "02db05d6",
   "metadata": {},
   "outputs": [],
   "source": [
    "boundary_data[\"몬스터파크 경험치량\"] = [2.694, 3.956, 3.851, 3.664, 3.564, 2.382,\n",
    "                               2.319, 1.436, 0.993, 0.531, 0.368, 0.183, 0.127]"
   ]
  },
  {
   "cell_type": "code",
   "execution_count": 24,
   "id": "04187715",
   "metadata": {},
   "outputs": [],
   "source": [
    "boundary_data.to_csv(\"exp_diff.csv\")"
   ]
  }
 ],
 "metadata": {
  "kernelspec": {
   "display_name": "Python 3",
   "language": "python",
   "name": "python3"
  },
  "language_info": {
   "codemirror_mode": {
    "name": "ipython",
    "version": 3
   },
   "file_extension": ".py",
   "mimetype": "text/x-python",
   "name": "python",
   "nbconvert_exporter": "python",
   "pygments_lexer": "ipython3",
   "version": "3.8.8"
  }
 },
 "nbformat": 4,
 "nbformat_minor": 5
}
