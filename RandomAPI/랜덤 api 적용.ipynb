{
 "cells": [
  {
   "cell_type": "code",
   "execution_count": 1,
   "id": "a668de78",
   "metadata": {},
   "outputs": [],
   "source": [
    "import pandas as pd"
   ]
  },
  {
   "cell_type": "code",
   "execution_count": 2,
   "id": "1890220f",
   "metadata": {},
   "outputs": [],
   "source": [
    "data = pd.read_csv(\"ranking_concat.csv\")"
   ]
  },
  {
   "cell_type": "code",
   "execution_count": 3,
   "id": "c1f7e4b2",
   "metadata": {},
   "outputs": [],
   "source": [
    "data = data.iloc[:,[1,2]]"
   ]
  },
  {
   "cell_type": "markdown",
   "id": "d692c6a7",
   "metadata": {},
   "source": [
    "# 일일 키 조회수는 1000개, 3개 키 운용 가능\n",
    "# ocid 조회에 500개, 심볼 조회에 500개 사용해야함."
   ]
  },
  {
   "cell_type": "code",
   "execution_count": 4,
   "id": "e2fb6ba6",
   "metadata": {},
   "outputs": [],
   "source": [
    "data260 = data[data[\"LV\"]==260]\n",
    "data265 = data[data[\"LV\"]==265]\n",
    "data270 = data[data[\"LV\"]==270]\n",
    "data275 = data[data[\"LV\"]==275]\n",
    "data280 = data[data[\"LV\"]==280]\n",
    "data285 = data[data[\"LV\"]==285]\n",
    "data290 = data[data[\"LV\"]==290]\n",
    "data295 = data[data[\"LV\"]==295]"
   ]
  },
  {
   "cell_type": "code",
   "execution_count": 95,
   "id": "16b7c7a0",
   "metadata": {},
   "outputs": [],
   "source": [
    "rnd = \"샘플로 쓸 데이터\".sample(n=1000)"
   ]
  },
  {
   "cell_type": "code",
   "execution_count": 96,
   "id": "799b3dea",
   "metadata": {},
   "outputs": [],
   "source": [
    "rnd = pd.DataFrame(rnd)"
   ]
  },
  {
   "cell_type": "code",
   "execution_count": 99,
   "id": "8e498b72",
   "metadata": {},
   "outputs": [],
   "source": [
    "name = []\n",
    "for row in rnd.itertuples():\n",
    "    value = row.닉네임\n",
    "    name.append(value)"
   ]
  },
  {
   "cell_type": "code",
   "execution_count": 98,
   "id": "348d20fe",
   "metadata": {},
   "outputs": [],
   "source": [
    "import requests\n",
    "from urllib.parse import urlparse\n",
    "import time"
   ]
  },
  {
   "cell_type": "markdown",
   "id": "85996450",
   "metadata": {},
   "source": [
    "# OCID 조회 & 심볼 정보 조회\n",
    "\n",
    "단, 23.12.21 이후 접속자만 조회 가능\n",
    "\n",
    "1월 7일 기준 데이터"
   ]
  },
  {
   "cell_type": "code",
   "execution_count": null,
   "id": "5a12918c",
   "metadata": {
    "scrolled": true
   },
   "outputs": [],
   "source": [
    "headers = {\n",
    "    \"x-nxopen-api-key\": \"API Key\"\n",
    "}\n",
    "\n",
    "character_symbol = []\n",
    "\n",
    "for item in name:\n",
    "    urlString = f'https://open.api.nexon.com/maplestory/v1/id?character_name={item}'\n",
    "    \n",
    "    try:\n",
    "        response = requests.get(urlString, headers = headers)\n",
    "        response.raise_for_status()\n",
    "    \n",
    "    except requests.exceptions.RequestException as e:\n",
    "        print(f\"{name.index(item)}, 사라진 닉네임 or 최근 접속 기록이 없는 닉네임입니다.\")\n",
    "        time.sleep(2)\n",
    "        continue\n",
    "\n",
    "    script = response.json()\n",
    "    ocid = script[\"ocid\"]\n",
    "        \n",
    "    time.sleep(2)\n",
    "    \n",
    "    urlString2 = f'https://open.api.nexon.com/maplestory/v1/character/symbol-equipment?ocid={ocid}&date=2024-01-07'\n",
    "\n",
    "    try:\n",
    "        response2 = requests.get(urlString2, headers = headers)\n",
    "        response2.raise_for_status()\n",
    "    \n",
    "    except requests.exceptions.RequestException as e:\n",
    "        print(f\"{name.index(item)}, 심볼 정보 조회 불가.\")\n",
    "        time.sleep(2)\n",
    "        continue\n",
    "        \n",
    "    script2 = response2.json()\n",
    "    \n",
    "    authentic_info = script2['symbol'][6:]\n",
    "    \n",
    "    temp = []\n",
    "    for items in authentic_info:\n",
    "        temp.append(items['symbol_level'])\n",
    "    \n",
    "    character_symbol.append(temp)"
   ]
  },
  {
   "cell_type": "code",
   "execution_count": 104,
   "id": "f8173234",
   "metadata": {},
   "outputs": [],
   "source": [
    "symbol = [v for v in character_symbol if v]"
   ]
  },
  {
   "cell_type": "code",
   "execution_count": 113,
   "id": "7c769647",
   "metadata": {},
   "outputs": [],
   "source": [
    "s = 0\n",
    "for item in symbol:\n",
    "    s += item[0]\n",
    "    if len(item) == 2:\n",
    "        s += item[1]\n",
    "    elif len(item) == 3:\n",
    "        s += item[1]\n",
    "        s += item[2]\n",
    "    elif len(item) == 4:\n",
    "        s += item[1]\n",
    "        s += item[2]\n",
    "        s += item[3]\n",
    "    elif len(item) == 5:\n",
    "        s += item[1]\n",
    "        s += item[2]\n",
    "        s += item[3]\n",
    "        s += item[4]\n",
    "    elif len(item) == 6:\n",
    "        s += item[1]\n",
    "        s += item[2]\n",
    "        s += item[3]\n",
    "        s += item[4]\n",
    "        s += item[5]"
   ]
  },
  {
   "cell_type": "code",
   "execution_count": 114,
   "id": "77733812",
   "metadata": {},
   "outputs": [],
   "source": [
    "avg = (round(ser/len(symbol265),2) * 10)"
   ]
  },
  {
   "cell_type": "markdown",
   "id": "2fc9bbb5",
   "metadata": {},
   "source": [
    "# 260레벨 사냥터 기본 포스 : 30 최대 : 80\n",
    "# 265레벨 사냥터 기본 포스 : 70 최대 : 120\n",
    "# 270레벨 사냥터 기본 포스 : 130 최대 : 180\n",
    "# 275레벨 사냥터 기본 포스 : 230 최대 : 280\n",
    "# 280레벨 사냥터 기본 포스 : 330 최대 : 380\n",
    "# 285레벨 사냥터 기본 포스 : 430 최대 : 480"
   ]
  },
  {
   "cell_type": "markdown",
   "id": "027d1261",
   "metadata": {},
   "source": [
    "# 1000개 캐릭터 랜덤 추출 결과!\n",
    "\n",
    "260레벨 친구들의 심볼 레벨, 포스 평균 : 2.85, 28.5!\n",
    "\n",
    "265레벨 친구들의 심볼 레벨, 포스 평균 : 8.11, 81.1!\n",
    "\n",
    "270레벨 친구들의 심볼 레벨, 포스 평균 : 15,50, 155.0!\n",
    "\n",
    "275레벨 친구들의 심볼 레벨, 포스 평균 : 24.76, 247.6!\n",
    "\n",
    "280레벨 친구들의 심볼 레벨, 포스 평균 : 37.75, 377.5!\n",
    "\n",
    "285레벨 친구들의 심볼 레벨, 포스 평균 : 52.11, 521.1!"
   ]
  }
 ],
 "metadata": {
  "kernelspec": {
   "display_name": "Python 3",
   "language": "python",
   "name": "python3"
  },
  "language_info": {
   "codemirror_mode": {
    "name": "ipython",
    "version": 3
   },
   "file_extension": ".py",
   "mimetype": "text/x-python",
   "name": "python",
   "nbconvert_exporter": "python",
   "pygments_lexer": "ipython3",
   "version": "3.8.8"
  }
 },
 "nbformat": 4,
 "nbformat_minor": 5
}
