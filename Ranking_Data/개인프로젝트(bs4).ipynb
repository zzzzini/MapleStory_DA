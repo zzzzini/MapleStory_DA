{
 "cells": [
  {
   "cell_type": "code",
   "execution_count": 1,
   "id": "71eec522",
   "metadata": {},
   "outputs": [],
   "source": [
    "import requests\n",
    "import pandas as pd\n",
    "import time\n",
    "from bs4 import BeautifulSoup"
   ]
  },
  {
   "cell_type": "code",
   "execution_count": null,
   "id": "23d15df1",
   "metadata": {
    "scrolled": true
   },
   "outputs": [],
   "source": [
    "#page & w 교체 필요\n",
    "# 월드 목록 : 오로라(3), 레드(4), 이노시스(5), 유니온(6), 스카니아(7), 루나(8), 제니스(9), 크로아(10), 베라(11), 엘리시움(12), 아케인(13), 노바(14)\n",
    "# 월드 목록을 리스트로 만들어서 world 번호를 반복으로 돌릴 수 있지만, 데이터 수집에 너무 많은 시간이 걸리는 이유로 그러지 않았습니다.\n",
    "\n",
    "headers = {\n",
    "    'User-Agent': 'chrome 이용해서 user agent 정보 입력'\n",
    "}\n",
    "\n",
    "# 조회하고자 하는 페이지\n",
    "page = 1\n",
    "# 조회하고자 하는 월드 번호\n",
    "w = 3\n",
    "check = True\n",
    "data = []\n",
    "\n",
    "while True:\n",
    "    # 랭킹 페이지\n",
    "    url = f\"https://maplestory.nexon.com/N23Ranking/World/Total?page={page}&w={w}\"\n",
    "    res = requests.get(url, headers=headers)\n",
    "    \n",
    "    soup = BeautifulSoup(res.text, \"html.parser\")\n",
    "    \n",
    "    time.sleep(2)\n",
    "    \n",
    "    lv_data = []\n",
    "    name_data = []\n",
    "    \n",
    "    lv_temp = soup.find(\"tbody\").find_all(\"tr\")\n",
    "    for lv in lv_temp:\n",
    "        # 260레벨 이상 데이터로 필터링\n",
    "        if int(lv.find_all(\"td\")[2].text[3:]) < 260:\n",
    "            check = False\n",
    "            break\n",
    "        else:\n",
    "            lv_data.append(lv.find_all(\"td\")[2].text[3:])\n",
    "    \n",
    "    if soup.find(\"tbody\").find_all(\"dt\"):\n",
    "        items = soup.find(\"tbody\").find_all(\"dt\")\n",
    "        \n",
    "        for item in items:\n",
    "            name_data.append(item.find(\"a\").text)\n",
    "    \n",
    "    else:\n",
    "        print(\"마지막 페이지입니다.\")\n",
    "        break\n",
    "    \n",
    "    for i in range(len(lv_data)):\n",
    "        data.append([lv_data[i], name_data[i]])\n",
    "    \n",
    "    # 한 페이지당 10초 정도 쉬어주지 않으면 ip밴을 당할 수 있음\n",
    "    time.sleep(8)\n",
    "    \n",
    "    # 경과 확인용 출력 (필수 아님!)\n",
    "    print(page, len(data))\n",
    "    \n",
    "    # 백업용 데이터 생성 (필수 아님!)\n",
    "    if page % 500 == 0:\n",
    "        temp = pd.DataFrame(data)\n",
    "        temp.to_csv(f\"temp{page}.csv\")\n",
    "        \n",
    "    if check:\n",
    "        page += 1\n",
    "    else:\n",
    "        break"
   ]
  },
  {
   "cell_type": "code",
   "execution_count": 63,
   "id": "389a70ba",
   "metadata": {},
   "outputs": [],
   "source": [
    "df = pd.DataFrame(data)\n",
    "df.rename(columns={0:\"LV\", 1:\"닉네임\"},inplace=True)\n",
    "df.to_csv(\"data.csv\")"
   ]
  }
 ],
 "metadata": {
  "kernelspec": {
   "display_name": "Python 3",
   "language": "python",
   "name": "python3"
  },
  "language_info": {
   "codemirror_mode": {
    "name": "ipython",
    "version": 3
   },
   "file_extension": ".py",
   "mimetype": "text/x-python",
   "name": "python",
   "nbconvert_exporter": "python",
   "pygments_lexer": "ipython3",
   "version": "3.8.8"
  }
 },
 "nbformat": 4,
 "nbformat_minor": 5
}
