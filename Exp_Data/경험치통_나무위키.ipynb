{
 "cells": [
  {
   "cell_type": "code",
   "execution_count": 21,
   "id": "485add09",
   "metadata": {},
   "outputs": [],
   "source": [
    "import requests\n",
    "import pandas as pd\n",
    "import time\n",
    "import re\n",
    "from bs4 import BeautifulSoup"
   ]
  },
  {
   "cell_type": "code",
   "execution_count": 57,
   "id": "cdf97fd0",
   "metadata": {},
   "outputs": [],
   "source": [
    "headers = {\n",
    "    'User-Agent': 'Mozilla/5.0 (Macintosh; Intel Mac OS X 10_15_7) AppleWebKit/537.36 (KHTML, like Gecko) Chrome/120.0.0.0 Safari/537.36'\n",
    "}\n",
    "\n",
    "url = f\"https://namu.wiki/w/%EB%A9%94%EC%9D%B4%ED%94%8C%EC%8A%A4%ED%86%A0%EB%A6%AC/%EC%8B%9C%EC%8A%A4%ED%85%9C/%EA%B2%BD%ED%97%98%EC%B9%98\"\n",
    "res = requests.get(url, headers=headers)\n",
    "    \n",
    "soup = BeautifulSoup(res.text, \"html.parser\")\n",
    "\n",
    "exp_data = []\n",
    "\n",
    "tr200 = soup.find_all(\"table\")[2].find_all(\"tr\")\n",
    "tr260 = soup.find_all(\"table\")[3].find_all(\"tr\")\n",
    "\n",
    "pattern = r'[^[]*'\n",
    "n = re.compile(pattern)\n",
    "\n",
    "for item in tr200:\n",
    "    if item.find_all(\"td\")[0].text == \"레벨 구간\":\n",
    "        continue\n",
    "    \n",
    "    temp_lv = item.find_all(\"td\")[0].text\n",
    "    lv = n.findall(temp_lv)[0]\n",
    "    \n",
    "    temp_exp = (item.find_all(\"td\")[1].text)\n",
    "    req_exp = n.findall(temp_exp)[0]\n",
    "    \n",
    "    temp_rate = item.find_all(\"td\")[2].text\n",
    "    rate = n.findall(temp_rate)[0]\n",
    "    \n",
    "    exp_data.append([lv[0:3], req_exp, rate])\n",
    "    \n",
    "for item in tr260:\n",
    "    if item.find_all(\"td\")[0].text == \"레벨 구간\":\n",
    "        continue\n",
    "    \n",
    "    temp_lv = item.find_all(\"td\")[0].text\n",
    "    lv = n.findall(temp_lv)[0]\n",
    "    \n",
    "    temp_exp = (item.find_all(\"td\")[1].text)\n",
    "    req_exp = n.findall(temp_exp)[0]\n",
    "    \n",
    "    temp_rate = item.find_all(\"td\")[2].text\n",
    "    rate = n.findall(temp_rate)[0]\n",
    "    \n",
    "    exp_data.append([lv[0:3], req_exp, rate])"
   ]
  },
  {
   "cell_type": "code",
   "execution_count": 58,
   "id": "d08682c2",
   "metadata": {},
   "outputs": [],
   "source": [
    "df = pd.DataFrame(exp_data, columns=[\"레벨\", \"요구 경험치량\", \"증가 비율\"])"
   ]
  },
  {
   "cell_type": "code",
   "execution_count": 60,
   "id": "087dca10",
   "metadata": {},
   "outputs": [],
   "source": [
    "df.to_csv(\"exp_data.csv\")"
   ]
  }
 ],
 "metadata": {
  "kernelspec": {
   "display_name": "Python 3",
   "language": "python",
   "name": "python3"
  },
  "language_info": {
   "codemirror_mode": {
    "name": "ipython",
    "version": 3
   },
   "file_extension": ".py",
   "mimetype": "text/x-python",
   "name": "python",
   "nbconvert_exporter": "python",
   "pygments_lexer": "ipython3",
   "version": "3.8.8"
  }
 },
 "nbformat": 4,
 "nbformat_minor": 5
}
