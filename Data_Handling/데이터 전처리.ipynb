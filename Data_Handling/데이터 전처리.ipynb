{
 "cells": [
  {
   "cell_type": "code",
   "execution_count": 1,
   "id": "04a5dbfd",
   "metadata": {},
   "outputs": [],
   "source": [
    "import pandas as pd"
   ]
  },
  {
   "cell_type": "code",
   "execution_count": 35,
   "id": "42e5e23f",
   "metadata": {},
   "outputs": [],
   "source": [
    "servers = ['aurora','red','enosis','union','scania','luna',\n",
    "           'zenith','croa','vera','elisium','arcane','nova']"
   ]
  },
  {
   "cell_type": "code",
   "execution_count": 36,
   "id": "870f5d24",
   "metadata": {},
   "outputs": [],
   "source": [
    "df = pd.DataFrame()"
   ]
  },
  {
   "cell_type": "code",
   "execution_count": 37,
   "id": "154e3f20",
   "metadata": {},
   "outputs": [],
   "source": [
    "for item in servers:\n",
    "    data = pd.read_csv(f'{item}.csv').iloc[:,[1,2]]\n",
    "    df = pd.concat([df,data])"
   ]
  },
  {
   "cell_type": "code",
   "execution_count": 38,
   "id": "dc83ec62",
   "metadata": {},
   "outputs": [],
   "source": [
    "df = df.reset_index()"
   ]
  },
  {
   "cell_type": "code",
   "execution_count": 39,
   "id": "529277e2",
   "metadata": {},
   "outputs": [],
   "source": [
    "df = df.iloc[:,[1,2]]"
   ]
  },
  {
   "cell_type": "code",
   "execution_count": 40,
   "id": "448c959c",
   "metadata": {},
   "outputs": [],
   "source": [
    "df.sort_values(by='LV',ascending=False, inplace=True)"
   ]
  },
  {
   "cell_type": "code",
   "execution_count": 41,
   "id": "a2929eb8",
   "metadata": {},
   "outputs": [],
   "source": [
    "df = df.reset_index().iloc[:,[1,2]]"
   ]
  },
  {
   "cell_type": "code",
   "execution_count": 7,
   "id": "649c9fee",
   "metadata": {},
   "outputs": [],
   "source": [
    "new_df = df.groupby(\"LV\").count()"
   ]
  },
  {
   "cell_type": "code",
   "execution_count": 15,
   "id": "06d9685b",
   "metadata": {},
   "outputs": [],
   "source": [
    "exp = pd.read_csv(\"exp_data.csv\").iloc[60:,[1,2,3]]"
   ]
  },
  {
   "cell_type": "code",
   "execution_count": 18,
   "id": "e7561b03",
   "metadata": {},
   "outputs": [],
   "source": [
    "exp.set_index(\"레벨\", inplace=True)"
   ]
  },
  {
   "cell_type": "code",
   "execution_count": 26,
   "id": "90ffcb6b",
   "metadata": {},
   "outputs": [],
   "source": [
    "concat1 = pd.concat([new_df, exp], axis=1)"
   ]
  },
  {
   "cell_type": "code",
   "execution_count": 30,
   "id": "b6c7753a",
   "metadata": {},
   "outputs": [],
   "source": [
    "concat1.sort_index(inplace=True)"
   ]
  },
  {
   "cell_type": "code",
   "execution_count": 76,
   "id": "82c3571d",
   "metadata": {},
   "outputs": [],
   "source": [
    "exp = pd.read_csv(\"exp_diff.csv\").iloc[:,[1,3,4,5,6,7]]"
   ]
  },
  {
   "cell_type": "code",
   "execution_count": 78,
   "id": "d4dc615e",
   "metadata": {},
   "outputs": [],
   "source": [
    "exp.set_index(\"레벨\",inplace=True)"
   ]
  },
  {
   "cell_type": "code",
   "execution_count": 81,
   "id": "81fab4f2",
   "metadata": {},
   "outputs": [],
   "source": [
    "data = pd.concat([concat1, exp], axis=1)"
   ]
  },
  {
   "cell_type": "code",
   "execution_count": 82,
   "id": "afc8e246",
   "metadata": {},
   "outputs": [],
   "source": [
    "data.sort_index(inplace=True)"
   ]
  },
  {
   "cell_type": "code",
   "execution_count": 85,
   "id": "20bdce07",
   "metadata": {},
   "outputs": [],
   "source": [
    "data.fillna(0, inplace=True)"
   ]
  },
  {
   "cell_type": "code",
   "execution_count": 88,
   "id": "e839cb2d",
   "metadata": {},
   "outputs": [],
   "source": [
    "data.to_csv(\"totalexp.csv\")"
   ]
  }
 ],
 "metadata": {
  "kernelspec": {
   "display_name": "Python 3",
   "language": "python",
   "name": "python3"
  },
  "language_info": {
   "codemirror_mode": {
    "name": "ipython",
    "version": 3
   },
   "file_extension": ".py",
   "mimetype": "text/x-python",
   "name": "python",
   "nbconvert_exporter": "python",
   "pygments_lexer": "ipython3",
   "version": "3.8.8"
  }
 },
 "nbformat": 4,
 "nbformat_minor": 5
}
