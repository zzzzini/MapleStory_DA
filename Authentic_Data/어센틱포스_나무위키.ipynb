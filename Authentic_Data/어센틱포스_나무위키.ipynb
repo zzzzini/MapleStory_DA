{
 "cells": [
  {
   "cell_type": "markdown",
   "id": "b1b12913",
   "metadata": {},
   "source": [
    "# 사냥터 포스"
   ]
  },
  {
   "cell_type": "code",
   "execution_count": 2,
   "id": "6cd907be",
   "metadata": {},
   "outputs": [],
   "source": [
    "import requests\n",
    "import pandas as pd\n",
    "import time\n",
    "import re\n",
    "from bs4 import BeautifulSoup"
   ]
  },
  {
   "cell_type": "code",
   "execution_count": 19,
   "id": "13788849",
   "metadata": {},
   "outputs": [],
   "source": [
    "headers = {\n",
    "    'User-Agent': 'Mozilla/5.0 (Macintosh; Intel Mac OS X 10_15_7) AppleWebKit/537.36 (KHTML, like Gecko) Chrome/120.0.0.0 Safari/537.36'\n",
    "}\n",
    "\n",
    "url = \"https://namu.wiki/w/%EC%96%B4%EC%84%BC%ED%8B%B1%ED%8F%AC%EC%8A%A4\"\n",
    "res = requests.get(url, headers=headers)\n",
    "    \n",
    "soup = BeautifulSoup(res.text, \"html.parser\")\n",
    "\n",
    "authentic_data = []\n",
    "\n",
    "table = soup.find_all(\"table\", class_=\"TiHaw-AK\")[4]\n",
    "data = table.find_all(\"tr\")[1:]\n",
    "for item in data:\n",
    "    authentic_data.append([item.find_all(\"td\")[0].text, item.find_all(\"td\")[1].text])"
   ]
  },
  {
   "cell_type": "code",
   "execution_count": 22,
   "id": "d2e956eb",
   "metadata": {},
   "outputs": [],
   "source": [
    "df = pd.DataFrame(authentic_data, columns=[\"어센틱포스 격차\", \"주는 피해 비율\"])"
   ]
  },
  {
   "cell_type": "code",
   "execution_count": 25,
   "id": "39afd2a0",
   "metadata": {},
   "outputs": [],
   "source": [
    "df.to_csv(\"authentic_data.csv\")"
   ]
  },
  {
   "cell_type": "markdown",
   "id": "bb92117d",
   "metadata": {},
   "source": [
    "# 성장 요구치"
   ]
  },
  {
   "cell_type": "markdown",
   "id": "c6cb4dfc",
   "metadata": {},
   "source": [
    "# 세르 ~ 오디움"
   ]
  },
  {
   "cell_type": "code",
   "execution_count": 155,
   "id": "61d614d6",
   "metadata": {},
   "outputs": [],
   "source": [
    "simbol_data1 = []"
   ]
  },
  {
   "cell_type": "code",
   "execution_count": 156,
   "id": "a6e04a70",
   "metadata": {},
   "outputs": [],
   "source": [
    "temp1 = soup.find_all(\"table\", class_=\"TiHaw-AK\")[2]"
   ]
  },
  {
   "cell_type": "code",
   "execution_count": 157,
   "id": "1c536714",
   "metadata": {},
   "outputs": [],
   "source": [
    "t = temp1.find_all(\"tr\")[2:]"
   ]
  },
  {
   "cell_type": "code",
   "execution_count": 158,
   "id": "55874bf6",
   "metadata": {},
   "outputs": [],
   "source": [
    "k = t[:20:2]"
   ]
  },
  {
   "cell_type": "code",
   "execution_count": 159,
   "id": "e8d9660d",
   "metadata": {},
   "outputs": [],
   "source": [
    "for item in k:\n",
    "    simbol_data1.append([item.find_all(\"td\")[0].text, item.find_all(\"td\")[5].text, item.find_all(\"td\")[6].text,\n",
    "          item.find_all(\"td\")[7].text, item.find_all(\"td\")[8].text])"
   ]
  },
  {
   "cell_type": "markdown",
   "id": "44c6c66b",
   "metadata": {},
   "source": [
    "# 도원경 ~ 카르시온"
   ]
  },
  {
   "cell_type": "code",
   "execution_count": 160,
   "id": "9b676b96",
   "metadata": {},
   "outputs": [],
   "source": [
    "simbol_data2 = []"
   ]
  },
  {
   "cell_type": "code",
   "execution_count": 161,
   "id": "458678fe",
   "metadata": {},
   "outputs": [],
   "source": [
    "temp2 = soup.find_all(\"table\", class_=\"TiHaw-AK\")[3]"
   ]
  },
  {
   "cell_type": "code",
   "execution_count": 162,
   "id": "861b70dc",
   "metadata": {},
   "outputs": [],
   "source": [
    "t = temp2.find_all(\"tr\")[2:]"
   ]
  },
  {
   "cell_type": "code",
   "execution_count": 163,
   "id": "9f5d65ad",
   "metadata": {},
   "outputs": [],
   "source": [
    "k = t[:20:2]"
   ]
  },
  {
   "cell_type": "code",
   "execution_count": 164,
   "id": "3281a1c3",
   "metadata": {},
   "outputs": [],
   "source": [
    "for item in k:\n",
    "    simbol_data2.append([item.find_all(\"td\")[6].text,\n",
    "          item.find_all(\"td\")[7].text, item.find_all(\"td\")[8].text])"
   ]
  },
  {
   "cell_type": "code",
   "execution_count": 165,
   "id": "534fbe63",
   "metadata": {},
   "outputs": [],
   "source": [
    "s1 = pd.DataFrame(simbol_data1)\n",
    "s2 = pd.DataFrame(simbol_data2)"
   ]
  },
  {
   "cell_type": "code",
   "execution_count": 166,
   "id": "db1c4912",
   "metadata": {},
   "outputs": [],
   "source": [
    "simbol_data = []"
   ]
  },
  {
   "cell_type": "code",
   "execution_count": 167,
   "id": "28b770b7",
   "metadata": {},
   "outputs": [],
   "source": [
    "simbol_data = pd.concat([s1,s2],axis=1)"
   ]
  },
  {
   "cell_type": "code",
   "execution_count": 172,
   "id": "65b0e625",
   "metadata": {},
   "outputs": [],
   "source": [
    "simbol_data.columns=[\"레벨\",\"필요 심볼\",\"세르니움\",\"아르크스\",\"오디움\",\"도원경\",\"아르테리아\",\"카르시온\"]"
   ]
  },
  {
   "cell_type": "code",
   "execution_count": 174,
   "id": "ad331ce3",
   "metadata": {},
   "outputs": [],
   "source": [
    "simbol_data.to_csv(\"simbol_data.csv\")"
   ]
  }
 ],
 "metadata": {
  "kernelspec": {
   "display_name": "Python 3",
   "language": "python",
   "name": "python3"
  },
  "language_info": {
   "codemirror_mode": {
    "name": "ipython",
    "version": 3
   },
   "file_extension": ".py",
   "mimetype": "text/x-python",
   "name": "python",
   "nbconvert_exporter": "python",
   "pygments_lexer": "ipython3",
   "version": "3.8.8"
  }
 },
 "nbformat": 4,
 "nbformat_minor": 5
}
